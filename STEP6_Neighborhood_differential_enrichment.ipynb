{
 "cells": [
  {
   "cell_type": "markdown",
   "id": "11d8fcb3-b973-4164-aed7-e3327b94bc6c",
   "metadata": {},
   "source": [
    "# Differential enrichment analysis\n",
    "\n",
    "Based on: Schürch et al., 2020, Cell (https://doi.org/10.1016/j.cell.2020.07.005) (Fig 6G)"
   ]
  },
  {
   "cell_type": "code",
   "execution_count": 2,
   "id": "6b03b184-9b8e-4937-9781-176bdf186e61",
   "metadata": {
    "tags": []
   },
   "outputs": [],
   "source": [
    "import pandas as pd\n",
    "import numpy as np\n",
    "\n",
    "import statsmodels.api as sm\n",
    "import statsmodels.stats.multitest as smmulti \n",
    "\n",
    "import seaborn as sns\n",
    "import matplotlib.pyplot as plt"
   ]
  },
  {
   "cell_type": "markdown",
   "id": "ae87517d-7611-4908-8b9c-34b5209159a4",
   "metadata": {
    "tags": []
   },
   "source": [
    "## Data wrangling"
   ]
  },
  {
   "cell_type": "markdown",
   "id": "8ba73db8-37de-4cbe-9879-555282654a53",
   "metadata": {
    "tags": []
   },
   "source": [
    "### cell types"
   ]
  },
  {
   "cell_type": "code",
   "execution_count": 4,
   "id": "f2606215-94d6-4093-a670-0eebab4ab2fe",
   "metadata": {
    "tags": []
   },
   "outputs": [],
   "source": [
    "all_ct = pd.read_excel('/data/T_subsets.xlsx', sheet_name = 1, header = None)"
   ]
  },
  {
   "cell_type": "code",
   "execution_count": 5,
   "id": "131553c4-ee16-4f57-837b-2f945956ecb4",
   "metadata": {
    "tags": []
   },
   "outputs": [],
   "source": [
    "all_ct.set_index(0, inplace = True)"
   ]
  },
  {
   "cell_type": "code",
   "execution_count": 6,
   "id": "7b34527f-d5c7-4150-952a-4f03fec43dad",
   "metadata": {
    "tags": []
   },
   "outputs": [],
   "source": [
    "all_ct.columns = ['A', 'B', 'C', 'D', 'E', 'F', 'G', 'H'] # placeholders for now"
   ]
  },
  {
   "cell_type": "code",
   "execution_count": 7,
   "id": "7653a01b-ac56-48fb-aaad-7015624c7d11",
   "metadata": {
    "tags": []
   },
   "outputs": [
    {
     "data": {
      "text/html": [
       "<div>\n",
       "<style scoped>\n",
       "    .dataframe tbody tr th:only-of-type {\n",
       "        vertical-align: middle;\n",
       "    }\n",
       "\n",
       "    .dataframe tbody tr th {\n",
       "        vertical-align: top;\n",
       "    }\n",
       "\n",
       "    .dataframe thead th {\n",
       "        text-align: right;\n",
       "    }\n",
       "</style>\n",
       "<table border=\"1\" class=\"dataframe\">\n",
       "  <thead>\n",
       "    <tr style=\"text-align: right;\">\n",
       "      <th></th>\n",
       "      <th>A</th>\n",
       "      <th>B</th>\n",
       "      <th>C</th>\n",
       "      <th>D</th>\n",
       "      <th>E</th>\n",
       "      <th>F</th>\n",
       "      <th>G</th>\n",
       "      <th>H</th>\n",
       "    </tr>\n",
       "    <tr>\n",
       "      <th>0</th>\n",
       "      <th></th>\n",
       "      <th></th>\n",
       "      <th></th>\n",
       "      <th></th>\n",
       "      <th></th>\n",
       "      <th></th>\n",
       "      <th></th>\n",
       "      <th></th>\n",
       "    </tr>\n",
       "  </thead>\n",
       "  <tbody>\n",
       "    <tr>\n",
       "      <th>49</th>\n",
       "      <td>Stem/Progenitor cells</td>\n",
       "      <td>CD34+CD117- HSPCs</td>\n",
       "      <td>Mice1_Day0</td>\n",
       "      <td>Mice1</td>\n",
       "      <td>Day0</td>\n",
       "      <td>85</td>\n",
       "      <td>0.156408</td>\n",
       "      <td>0.579630</td>\n",
       "    </tr>\n",
       "    <tr>\n",
       "      <th>61</th>\n",
       "      <td>Stem/Progenitor cells</td>\n",
       "      <td>CD34+CD117+ HSPCs</td>\n",
       "      <td>Mice1_Day0</td>\n",
       "      <td>Mice1</td>\n",
       "      <td>Day0</td>\n",
       "      <td>123</td>\n",
       "      <td>0.226332</td>\n",
       "      <td>NaN</td>\n",
       "    </tr>\n",
       "    <tr>\n",
       "      <th>73</th>\n",
       "      <td>Stem/Progenitor cells</td>\n",
       "      <td>CD34-CD117+ HSPCs</td>\n",
       "      <td>Mice1_Day0</td>\n",
       "      <td>Mice1</td>\n",
       "      <td>Day0</td>\n",
       "      <td>107</td>\n",
       "      <td>0.196890</td>\n",
       "      <td>NaN</td>\n",
       "    </tr>\n",
       "    <tr>\n",
       "      <th>1</th>\n",
       "      <td>APCs</td>\n",
       "      <td>APCs</td>\n",
       "      <td>Mice1_Day0</td>\n",
       "      <td>Mice1</td>\n",
       "      <td>Day0</td>\n",
       "      <td>459</td>\n",
       "      <td>0.844604</td>\n",
       "      <td>0.853804</td>\n",
       "    </tr>\n",
       "    <tr>\n",
       "      <th>375</th>\n",
       "      <td>APCs</td>\n",
       "      <td>PD-L1+ APCs</td>\n",
       "      <td>Mice1_Day0</td>\n",
       "      <td>Mice1</td>\n",
       "      <td>Day0</td>\n",
       "      <td>2</td>\n",
       "      <td>0.003680</td>\n",
       "      <td>NaN</td>\n",
       "    </tr>\n",
       "    <tr>\n",
       "      <th>...</th>\n",
       "      <td>...</td>\n",
       "      <td>...</td>\n",
       "      <td>...</td>\n",
       "      <td>...</td>\n",
       "      <td>...</td>\n",
       "      <td>...</td>\n",
       "      <td>...</td>\n",
       "      <td>...</td>\n",
       "    </tr>\n",
       "    <tr>\n",
       "      <th>374</th>\n",
       "      <td>T cells</td>\n",
       "      <td>PD-1+CD8+ T cells</td>\n",
       "      <td>Mice9_Day14</td>\n",
       "      <td>Mice9</td>\n",
       "      <td>Day14</td>\n",
       "      <td>224</td>\n",
       "      <td>0.137593</td>\n",
       "      <td>NaN</td>\n",
       "    </tr>\n",
       "    <tr>\n",
       "      <th>479</th>\n",
       "      <td>Unidentified</td>\n",
       "      <td>Unidentified</td>\n",
       "      <td>Mice9_Day14</td>\n",
       "      <td>Mice9</td>\n",
       "      <td>Day14</td>\n",
       "      <td>9367</td>\n",
       "      <td>5.753721</td>\n",
       "      <td>5.753721</td>\n",
       "    </tr>\n",
       "    <tr>\n",
       "      <th>250</th>\n",
       "      <td>Vessels</td>\n",
       "      <td>LepR+ Vessels</td>\n",
       "      <td>Mice9_Day14</td>\n",
       "      <td>Mice9</td>\n",
       "      <td>Day14</td>\n",
       "      <td>1452</td>\n",
       "      <td>0.891897</td>\n",
       "      <td>6.951517</td>\n",
       "    </tr>\n",
       "    <tr>\n",
       "      <th>24</th>\n",
       "      <td>Vessels</td>\n",
       "      <td>Arterioles</td>\n",
       "      <td>Mice9_Day14</td>\n",
       "      <td>Mice9</td>\n",
       "      <td>Day14</td>\n",
       "      <td>364</td>\n",
       "      <td>0.223589</td>\n",
       "      <td>NaN</td>\n",
       "    </tr>\n",
       "    <tr>\n",
       "      <th>467</th>\n",
       "      <td>Vessels</td>\n",
       "      <td>Sinuses</td>\n",
       "      <td>Mice9_Day14</td>\n",
       "      <td>Mice9</td>\n",
       "      <td>Day14</td>\n",
       "      <td>9501</td>\n",
       "      <td>5.836031</td>\n",
       "      <td>NaN</td>\n",
       "    </tr>\n",
       "  </tbody>\n",
       "</table>\n",
       "<p>479 rows × 8 columns</p>\n",
       "</div>"
      ],
      "text/plain": [
       "                          A                  B            C      D      E  \\\n",
       "0                                                                           \n",
       "49    Stem/Progenitor cells  CD34+CD117- HSPCs   Mice1_Day0  Mice1   Day0   \n",
       "61    Stem/Progenitor cells  CD34+CD117+ HSPCs   Mice1_Day0  Mice1   Day0   \n",
       "73    Stem/Progenitor cells  CD34-CD117+ HSPCs   Mice1_Day0  Mice1   Day0   \n",
       "1                      APCs               APCs   Mice1_Day0  Mice1   Day0   \n",
       "375                    APCs        PD-L1+ APCs   Mice1_Day0  Mice1   Day0   \n",
       "..                      ...                ...          ...    ...    ...   \n",
       "374                 T cells  PD-1+CD8+ T cells  Mice9_Day14  Mice9  Day14   \n",
       "479            Unidentified       Unidentified  Mice9_Day14  Mice9  Day14   \n",
       "250                 Vessels      LepR+ Vessels  Mice9_Day14  Mice9  Day14   \n",
       "24                  Vessels         Arterioles  Mice9_Day14  Mice9  Day14   \n",
       "467                 Vessels            Sinuses  Mice9_Day14  Mice9  Day14   \n",
       "\n",
       "        F         G         H  \n",
       "0                              \n",
       "49     85  0.156408  0.579630  \n",
       "61    123  0.226332       NaN  \n",
       "73    107  0.196890       NaN  \n",
       "1     459  0.844604  0.853804  \n",
       "375     2  0.003680       NaN  \n",
       "..    ...       ...       ...  \n",
       "374   224  0.137593       NaN  \n",
       "479  9367  5.753721  5.753721  \n",
       "250  1452  0.891897  6.951517  \n",
       "24    364  0.223589       NaN  \n",
       "467  9501  5.836031       NaN  \n",
       "\n",
       "[479 rows x 8 columns]"
      ]
     },
     "execution_count": 7,
     "metadata": {},
     "output_type": "execute_result"
    }
   ],
   "source": [
    "all_ct"
   ]
  },
  {
   "cell_type": "code",
   "execution_count": 8,
   "id": "b4a18cd9-1f0f-42dd-a4b7-29240e616a5e",
   "metadata": {
    "tags": []
   },
   "outputs": [
    {
     "data": {
      "text/plain": [
       "True"
      ]
     },
     "execution_count": 8,
     "metadata": {},
     "output_type": "execute_result"
    }
   ],
   "source": [
    "# sanity check 1\n",
    "summed = all_ct.groupby(by=[\"A\"]).sum(numeric_only = True)\n",
    "all(summed.G == summed.H)\n",
    "# confirms that column H sums are consistent with column G sums for a given cell type parent (A), regardless of day"
   ]
  },
  {
   "cell_type": "code",
   "execution_count": 9,
   "id": "66d10143-ef19-42b5-a97f-0b7e7bc27040",
   "metadata": {
    "tags": []
   },
   "outputs": [
    {
     "data": {
      "text/html": [
       "<div>\n",
       "<style scoped>\n",
       "    .dataframe tbody tr th:only-of-type {\n",
       "        vertical-align: middle;\n",
       "    }\n",
       "\n",
       "    .dataframe tbody tr th {\n",
       "        vertical-align: top;\n",
       "    }\n",
       "\n",
       "    .dataframe thead th {\n",
       "        text-align: right;\n",
       "    }\n",
       "</style>\n",
       "<table border=\"1\" class=\"dataframe\">\n",
       "  <thead>\n",
       "    <tr style=\"text-align: right;\">\n",
       "      <th></th>\n",
       "      <th>F</th>\n",
       "      <th>G</th>\n",
       "      <th>H</th>\n",
       "    </tr>\n",
       "    <tr>\n",
       "      <th>D</th>\n",
       "      <th></th>\n",
       "      <th></th>\n",
       "      <th></th>\n",
       "    </tr>\n",
       "  </thead>\n",
       "  <tbody>\n",
       "    <tr>\n",
       "      <th>Mice1</th>\n",
       "      <td>54345</td>\n",
       "      <td>100.0</td>\n",
       "      <td>100.0</td>\n",
       "    </tr>\n",
       "    <tr>\n",
       "      <th>Mice10</th>\n",
       "      <td>148987</td>\n",
       "      <td>100.0</td>\n",
       "      <td>100.0</td>\n",
       "    </tr>\n",
       "    <tr>\n",
       "      <th>Mice11</th>\n",
       "      <td>235810</td>\n",
       "      <td>100.0</td>\n",
       "      <td>100.0</td>\n",
       "    </tr>\n",
       "    <tr>\n",
       "      <th>Mice12</th>\n",
       "      <td>214801</td>\n",
       "      <td>100.0</td>\n",
       "      <td>100.0</td>\n",
       "    </tr>\n",
       "    <tr>\n",
       "      <th>Mice2</th>\n",
       "      <td>151771</td>\n",
       "      <td>100.0</td>\n",
       "      <td>100.0</td>\n",
       "    </tr>\n",
       "    <tr>\n",
       "      <th>Mice3</th>\n",
       "      <td>240613</td>\n",
       "      <td>100.0</td>\n",
       "      <td>100.0</td>\n",
       "    </tr>\n",
       "    <tr>\n",
       "      <th>Mice4</th>\n",
       "      <td>53109</td>\n",
       "      <td>100.0</td>\n",
       "      <td>100.0</td>\n",
       "    </tr>\n",
       "    <tr>\n",
       "      <th>Mice5</th>\n",
       "      <td>164964</td>\n",
       "      <td>100.0</td>\n",
       "      <td>100.0</td>\n",
       "    </tr>\n",
       "    <tr>\n",
       "      <th>Mice6</th>\n",
       "      <td>173675</td>\n",
       "      <td>100.0</td>\n",
       "      <td>100.0</td>\n",
       "    </tr>\n",
       "    <tr>\n",
       "      <th>Mice7</th>\n",
       "      <td>191517</td>\n",
       "      <td>100.0</td>\n",
       "      <td>100.0</td>\n",
       "    </tr>\n",
       "    <tr>\n",
       "      <th>Mice8</th>\n",
       "      <td>241334</td>\n",
       "      <td>100.0</td>\n",
       "      <td>100.0</td>\n",
       "    </tr>\n",
       "    <tr>\n",
       "      <th>Mice9</th>\n",
       "      <td>162799</td>\n",
       "      <td>100.0</td>\n",
       "      <td>100.0</td>\n",
       "    </tr>\n",
       "  </tbody>\n",
       "</table>\n",
       "</div>"
      ],
      "text/plain": [
       "             F      G      H\n",
       "D                           \n",
       "Mice1    54345  100.0  100.0\n",
       "Mice10  148987  100.0  100.0\n",
       "Mice11  235810  100.0  100.0\n",
       "Mice12  214801  100.0  100.0\n",
       "Mice2   151771  100.0  100.0\n",
       "Mice3   240613  100.0  100.0\n",
       "Mice4    53109  100.0  100.0\n",
       "Mice5   164964  100.0  100.0\n",
       "Mice6   173675  100.0  100.0\n",
       "Mice7   191517  100.0  100.0\n",
       "Mice8   241334  100.0  100.0\n",
       "Mice9   162799  100.0  100.0"
      ]
     },
     "execution_count": 9,
     "metadata": {},
     "output_type": "execute_result"
    }
   ],
   "source": [
    "all_ct.groupby(by=[\"D\"]).sum(numeric_only = True)\n",
    "\n",
    "# confirms that column H is the sum of *all* frequencies for a given cell type family (A), regardless of day"
   ]
  },
  {
   "cell_type": "code",
   "execution_count": 10,
   "id": "098d51b3-cded-415d-8896-631ae09981a7",
   "metadata": {
    "tags": []
   },
   "outputs": [
    {
     "data": {
      "text/html": [
       "<div>\n",
       "<style scoped>\n",
       "    .dataframe tbody tr th:only-of-type {\n",
       "        vertical-align: middle;\n",
       "    }\n",
       "\n",
       "    .dataframe tbody tr th {\n",
       "        vertical-align: top;\n",
       "    }\n",
       "\n",
       "    .dataframe thead th {\n",
       "        text-align: right;\n",
       "    }\n",
       "</style>\n",
       "<table border=\"1\" class=\"dataframe\">\n",
       "  <thead>\n",
       "    <tr style=\"text-align: right;\">\n",
       "      <th></th>\n",
       "      <th>A</th>\n",
       "      <th>B</th>\n",
       "      <th>C</th>\n",
       "      <th>D</th>\n",
       "      <th>E</th>\n",
       "      <th>F</th>\n",
       "      <th>G</th>\n",
       "      <th>H</th>\n",
       "    </tr>\n",
       "    <tr>\n",
       "      <th>0</th>\n",
       "      <th></th>\n",
       "      <th></th>\n",
       "      <th></th>\n",
       "      <th></th>\n",
       "      <th></th>\n",
       "      <th></th>\n",
       "      <th></th>\n",
       "      <th></th>\n",
       "    </tr>\n",
       "  </thead>\n",
       "  <tbody>\n",
       "    <tr>\n",
       "      <th>85</th>\n",
       "      <td>T cells</td>\n",
       "      <td>CD4+ T cells</td>\n",
       "      <td>Mice1_Day0</td>\n",
       "      <td>Mice1</td>\n",
       "      <td>Day0</td>\n",
       "      <td>177</td>\n",
       "      <td>0.325697</td>\n",
       "      <td>1.098537</td>\n",
       "    </tr>\n",
       "    <tr>\n",
       "      <th>97</th>\n",
       "      <td>T cells</td>\n",
       "      <td>CD8+ T cells</td>\n",
       "      <td>Mice1_Day0</td>\n",
       "      <td>Mice1</td>\n",
       "      <td>Day0</td>\n",
       "      <td>224</td>\n",
       "      <td>0.412181</td>\n",
       "      <td>NaN</td>\n",
       "    </tr>\n",
       "    <tr>\n",
       "      <th>133</th>\n",
       "      <td>T cells</td>\n",
       "      <td>DN T cells</td>\n",
       "      <td>Mice1_Day0</td>\n",
       "      <td>Mice1</td>\n",
       "      <td>Day0</td>\n",
       "      <td>89</td>\n",
       "      <td>0.163769</td>\n",
       "      <td>NaN</td>\n",
       "    </tr>\n",
       "    <tr>\n",
       "      <th>351</th>\n",
       "      <td>T cells</td>\n",
       "      <td>PD-1+CD4+ T cells</td>\n",
       "      <td>Mice1_Day0</td>\n",
       "      <td>Mice1</td>\n",
       "      <td>Day0</td>\n",
       "      <td>37</td>\n",
       "      <td>0.068084</td>\n",
       "      <td>NaN</td>\n",
       "    </tr>\n",
       "    <tr>\n",
       "      <th>363</th>\n",
       "      <td>T cells</td>\n",
       "      <td>PD-1+CD8+ T cells</td>\n",
       "      <td>Mice1_Day0</td>\n",
       "      <td>Mice1</td>\n",
       "      <td>Day0</td>\n",
       "      <td>70</td>\n",
       "      <td>0.128807</td>\n",
       "      <td>NaN</td>\n",
       "    </tr>\n",
       "    <tr>\n",
       "      <th>86</th>\n",
       "      <td>T cells</td>\n",
       "      <td>CD4+ T cells</td>\n",
       "      <td>Mice10_Day21</td>\n",
       "      <td>Mice10</td>\n",
       "      <td>Day21</td>\n",
       "      <td>663</td>\n",
       "      <td>0.445005</td>\n",
       "      <td>1.263869</td>\n",
       "    </tr>\n",
       "    <tr>\n",
       "      <th>98</th>\n",
       "      <td>T cells</td>\n",
       "      <td>CD8+ T cells</td>\n",
       "      <td>Mice10_Day21</td>\n",
       "      <td>Mice10</td>\n",
       "      <td>Day21</td>\n",
       "      <td>194</td>\n",
       "      <td>0.130213</td>\n",
       "      <td>NaN</td>\n",
       "    </tr>\n",
       "    <tr>\n",
       "      <th>134</th>\n",
       "      <td>T cells</td>\n",
       "      <td>DN T cells</td>\n",
       "      <td>Mice10_Day21</td>\n",
       "      <td>Mice10</td>\n",
       "      <td>Day21</td>\n",
       "      <td>293</td>\n",
       "      <td>0.196661</td>\n",
       "      <td>NaN</td>\n",
       "    </tr>\n",
       "    <tr>\n",
       "      <th>352</th>\n",
       "      <td>T cells</td>\n",
       "      <td>PD-1+CD4+ T cells</td>\n",
       "      <td>Mice10_Day21</td>\n",
       "      <td>Mice10</td>\n",
       "      <td>Day21</td>\n",
       "      <td>195</td>\n",
       "      <td>0.130884</td>\n",
       "      <td>NaN</td>\n",
       "    </tr>\n",
       "    <tr>\n",
       "      <th>364</th>\n",
       "      <td>T cells</td>\n",
       "      <td>PD-1+CD8+ T cells</td>\n",
       "      <td>Mice10_Day21</td>\n",
       "      <td>Mice10</td>\n",
       "      <td>Day21</td>\n",
       "      <td>538</td>\n",
       "      <td>0.361105</td>\n",
       "      <td>NaN</td>\n",
       "    </tr>\n",
       "    <tr>\n",
       "      <th>87</th>\n",
       "      <td>T cells</td>\n",
       "      <td>CD4+ T cells</td>\n",
       "      <td>Mice11_Day21</td>\n",
       "      <td>Mice11</td>\n",
       "      <td>Day21</td>\n",
       "      <td>810</td>\n",
       "      <td>0.343497</td>\n",
       "      <td>1.091981</td>\n",
       "    </tr>\n",
       "    <tr>\n",
       "      <th>99</th>\n",
       "      <td>T cells</td>\n",
       "      <td>CD8+ T cells</td>\n",
       "      <td>Mice11_Day21</td>\n",
       "      <td>Mice11</td>\n",
       "      <td>Day21</td>\n",
       "      <td>274</td>\n",
       "      <td>0.116195</td>\n",
       "      <td>NaN</td>\n",
       "    </tr>\n",
       "    <tr>\n",
       "      <th>135</th>\n",
       "      <td>T cells</td>\n",
       "      <td>DN T cells</td>\n",
       "      <td>Mice11_Day21</td>\n",
       "      <td>Mice11</td>\n",
       "      <td>Day21</td>\n",
       "      <td>266</td>\n",
       "      <td>0.112803</td>\n",
       "      <td>NaN</td>\n",
       "    </tr>\n",
       "    <tr>\n",
       "      <th>353</th>\n",
       "      <td>T cells</td>\n",
       "      <td>PD-1+CD4+ T cells</td>\n",
       "      <td>Mice11_Day21</td>\n",
       "      <td>Mice11</td>\n",
       "      <td>Day21</td>\n",
       "      <td>196</td>\n",
       "      <td>0.083118</td>\n",
       "      <td>NaN</td>\n",
       "    </tr>\n",
       "    <tr>\n",
       "      <th>365</th>\n",
       "      <td>T cells</td>\n",
       "      <td>PD-1+CD8+ T cells</td>\n",
       "      <td>Mice11_Day21</td>\n",
       "      <td>Mice11</td>\n",
       "      <td>Day21</td>\n",
       "      <td>1029</td>\n",
       "      <td>0.436368</td>\n",
       "      <td>NaN</td>\n",
       "    </tr>\n",
       "    <tr>\n",
       "      <th>88</th>\n",
       "      <td>T cells</td>\n",
       "      <td>CD4+ T cells</td>\n",
       "      <td>Mice12_Day21</td>\n",
       "      <td>Mice12</td>\n",
       "      <td>Day21</td>\n",
       "      <td>964</td>\n",
       "      <td>0.448787</td>\n",
       "      <td>1.220665</td>\n",
       "    </tr>\n",
       "    <tr>\n",
       "      <th>100</th>\n",
       "      <td>T cells</td>\n",
       "      <td>CD8+ T cells</td>\n",
       "      <td>Mice12_Day21</td>\n",
       "      <td>Mice12</td>\n",
       "      <td>Day21</td>\n",
       "      <td>327</td>\n",
       "      <td>0.152234</td>\n",
       "      <td>NaN</td>\n",
       "    </tr>\n",
       "    <tr>\n",
       "      <th>136</th>\n",
       "      <td>T cells</td>\n",
       "      <td>DN T cells</td>\n",
       "      <td>Mice12_Day21</td>\n",
       "      <td>Mice12</td>\n",
       "      <td>Day21</td>\n",
       "      <td>572</td>\n",
       "      <td>0.266293</td>\n",
       "      <td>NaN</td>\n",
       "    </tr>\n",
       "    <tr>\n",
       "      <th>354</th>\n",
       "      <td>T cells</td>\n",
       "      <td>PD-1+CD4+ T cells</td>\n",
       "      <td>Mice12_Day21</td>\n",
       "      <td>Mice12</td>\n",
       "      <td>Day21</td>\n",
       "      <td>300</td>\n",
       "      <td>0.139664</td>\n",
       "      <td>NaN</td>\n",
       "    </tr>\n",
       "    <tr>\n",
       "      <th>366</th>\n",
       "      <td>T cells</td>\n",
       "      <td>PD-1+CD8+ T cells</td>\n",
       "      <td>Mice12_Day21</td>\n",
       "      <td>Mice12</td>\n",
       "      <td>Day21</td>\n",
       "      <td>459</td>\n",
       "      <td>0.213686</td>\n",
       "      <td>NaN</td>\n",
       "    </tr>\n",
       "    <tr>\n",
       "      <th>89</th>\n",
       "      <td>T cells</td>\n",
       "      <td>CD4+ T cells</td>\n",
       "      <td>Mice2_Day0</td>\n",
       "      <td>Mice2</td>\n",
       "      <td>Day0</td>\n",
       "      <td>272</td>\n",
       "      <td>0.179217</td>\n",
       "      <td>0.500754</td>\n",
       "    </tr>\n",
       "    <tr>\n",
       "      <th>101</th>\n",
       "      <td>T cells</td>\n",
       "      <td>CD8+ T cells</td>\n",
       "      <td>Mice2_Day0</td>\n",
       "      <td>Mice2</td>\n",
       "      <td>Day0</td>\n",
       "      <td>287</td>\n",
       "      <td>0.189101</td>\n",
       "      <td>NaN</td>\n",
       "    </tr>\n",
       "    <tr>\n",
       "      <th>137</th>\n",
       "      <td>T cells</td>\n",
       "      <td>DN T cells</td>\n",
       "      <td>Mice2_Day0</td>\n",
       "      <td>Mice2</td>\n",
       "      <td>Day0</td>\n",
       "      <td>182</td>\n",
       "      <td>0.119918</td>\n",
       "      <td>NaN</td>\n",
       "    </tr>\n",
       "    <tr>\n",
       "      <th>355</th>\n",
       "      <td>T cells</td>\n",
       "      <td>PD-1+CD4+ T cells</td>\n",
       "      <td>Mice2_Day0</td>\n",
       "      <td>Mice2</td>\n",
       "      <td>Day0</td>\n",
       "      <td>14</td>\n",
       "      <td>0.009224</td>\n",
       "      <td>NaN</td>\n",
       "    </tr>\n",
       "    <tr>\n",
       "      <th>367</th>\n",
       "      <td>T cells</td>\n",
       "      <td>PD-1+CD8+ T cells</td>\n",
       "      <td>Mice2_Day0</td>\n",
       "      <td>Mice2</td>\n",
       "      <td>Day0</td>\n",
       "      <td>5</td>\n",
       "      <td>0.003294</td>\n",
       "      <td>NaN</td>\n",
       "    </tr>\n",
       "    <tr>\n",
       "      <th>90</th>\n",
       "      <td>T cells</td>\n",
       "      <td>CD4+ T cells</td>\n",
       "      <td>Mice3_Day0</td>\n",
       "      <td>Mice3</td>\n",
       "      <td>Day0</td>\n",
       "      <td>1626</td>\n",
       "      <td>0.675774</td>\n",
       "      <td>1.722268</td>\n",
       "    </tr>\n",
       "    <tr>\n",
       "      <th>102</th>\n",
       "      <td>T cells</td>\n",
       "      <td>CD8+ T cells</td>\n",
       "      <td>Mice3_Day0</td>\n",
       "      <td>Mice3</td>\n",
       "      <td>Day0</td>\n",
       "      <td>1718</td>\n",
       "      <td>0.714010</td>\n",
       "      <td>NaN</td>\n",
       "    </tr>\n",
       "    <tr>\n",
       "      <th>138</th>\n",
       "      <td>T cells</td>\n",
       "      <td>DN T cells</td>\n",
       "      <td>Mice3_Day0</td>\n",
       "      <td>Mice3</td>\n",
       "      <td>Day0</td>\n",
       "      <td>568</td>\n",
       "      <td>0.236064</td>\n",
       "      <td>NaN</td>\n",
       "    </tr>\n",
       "    <tr>\n",
       "      <th>356</th>\n",
       "      <td>T cells</td>\n",
       "      <td>PD-1+CD4+ T cells</td>\n",
       "      <td>Mice3_Day0</td>\n",
       "      <td>Mice3</td>\n",
       "      <td>Day0</td>\n",
       "      <td>145</td>\n",
       "      <td>0.060263</td>\n",
       "      <td>NaN</td>\n",
       "    </tr>\n",
       "    <tr>\n",
       "      <th>368</th>\n",
       "      <td>T cells</td>\n",
       "      <td>PD-1+CD8+ T cells</td>\n",
       "      <td>Mice3_Day0</td>\n",
       "      <td>Mice3</td>\n",
       "      <td>Day0</td>\n",
       "      <td>87</td>\n",
       "      <td>0.036158</td>\n",
       "      <td>NaN</td>\n",
       "    </tr>\n",
       "  </tbody>\n",
       "</table>\n",
       "</div>"
      ],
      "text/plain": [
       "           A                  B             C       D      E     F         G  \\\n",
       "0                                                                              \n",
       "85   T cells       CD4+ T cells    Mice1_Day0   Mice1   Day0   177  0.325697   \n",
       "97   T cells       CD8+ T cells    Mice1_Day0   Mice1   Day0   224  0.412181   \n",
       "133  T cells         DN T cells    Mice1_Day0   Mice1   Day0    89  0.163769   \n",
       "351  T cells  PD-1+CD4+ T cells    Mice1_Day0   Mice1   Day0    37  0.068084   \n",
       "363  T cells  PD-1+CD8+ T cells    Mice1_Day0   Mice1   Day0    70  0.128807   \n",
       "86   T cells       CD4+ T cells  Mice10_Day21  Mice10  Day21   663  0.445005   \n",
       "98   T cells       CD8+ T cells  Mice10_Day21  Mice10  Day21   194  0.130213   \n",
       "134  T cells         DN T cells  Mice10_Day21  Mice10  Day21   293  0.196661   \n",
       "352  T cells  PD-1+CD4+ T cells  Mice10_Day21  Mice10  Day21   195  0.130884   \n",
       "364  T cells  PD-1+CD8+ T cells  Mice10_Day21  Mice10  Day21   538  0.361105   \n",
       "87   T cells       CD4+ T cells  Mice11_Day21  Mice11  Day21   810  0.343497   \n",
       "99   T cells       CD8+ T cells  Mice11_Day21  Mice11  Day21   274  0.116195   \n",
       "135  T cells         DN T cells  Mice11_Day21  Mice11  Day21   266  0.112803   \n",
       "353  T cells  PD-1+CD4+ T cells  Mice11_Day21  Mice11  Day21   196  0.083118   \n",
       "365  T cells  PD-1+CD8+ T cells  Mice11_Day21  Mice11  Day21  1029  0.436368   \n",
       "88   T cells       CD4+ T cells  Mice12_Day21  Mice12  Day21   964  0.448787   \n",
       "100  T cells       CD8+ T cells  Mice12_Day21  Mice12  Day21   327  0.152234   \n",
       "136  T cells         DN T cells  Mice12_Day21  Mice12  Day21   572  0.266293   \n",
       "354  T cells  PD-1+CD4+ T cells  Mice12_Day21  Mice12  Day21   300  0.139664   \n",
       "366  T cells  PD-1+CD8+ T cells  Mice12_Day21  Mice12  Day21   459  0.213686   \n",
       "89   T cells       CD4+ T cells    Mice2_Day0   Mice2   Day0   272  0.179217   \n",
       "101  T cells       CD8+ T cells    Mice2_Day0   Mice2   Day0   287  0.189101   \n",
       "137  T cells         DN T cells    Mice2_Day0   Mice2   Day0   182  0.119918   \n",
       "355  T cells  PD-1+CD4+ T cells    Mice2_Day0   Mice2   Day0    14  0.009224   \n",
       "367  T cells  PD-1+CD8+ T cells    Mice2_Day0   Mice2   Day0     5  0.003294   \n",
       "90   T cells       CD4+ T cells    Mice3_Day0   Mice3   Day0  1626  0.675774   \n",
       "102  T cells       CD8+ T cells    Mice3_Day0   Mice3   Day0  1718  0.714010   \n",
       "138  T cells         DN T cells    Mice3_Day0   Mice3   Day0   568  0.236064   \n",
       "356  T cells  PD-1+CD4+ T cells    Mice3_Day0   Mice3   Day0   145  0.060263   \n",
       "368  T cells  PD-1+CD8+ T cells    Mice3_Day0   Mice3   Day0    87  0.036158   \n",
       "\n",
       "            H  \n",
       "0              \n",
       "85   1.098537  \n",
       "97        NaN  \n",
       "133       NaN  \n",
       "351       NaN  \n",
       "363       NaN  \n",
       "86   1.263869  \n",
       "98        NaN  \n",
       "134       NaN  \n",
       "352       NaN  \n",
       "364       NaN  \n",
       "87   1.091981  \n",
       "99        NaN  \n",
       "135       NaN  \n",
       "353       NaN  \n",
       "365       NaN  \n",
       "88   1.220665  \n",
       "100       NaN  \n",
       "136       NaN  \n",
       "354       NaN  \n",
       "366       NaN  \n",
       "89   0.500754  \n",
       "101       NaN  \n",
       "137       NaN  \n",
       "355       NaN  \n",
       "367       NaN  \n",
       "90   1.722268  \n",
       "102       NaN  \n",
       "138       NaN  \n",
       "356       NaN  \n",
       "368       NaN  "
      ]
     },
     "execution_count": 10,
     "metadata": {},
     "output_type": "execute_result"
    }
   ],
   "source": [
    "# subset the data to just Day0 and Day21, and T cell parent types\n",
    "sub_ct = all_ct.query('E in [\"Day0\", \"Day21\"]').query('A == \"T cells\"')\n",
    "sub_ct"
   ]
  },
  {
   "cell_type": "code",
   "execution_count": 11,
   "id": "bc39b581-0b80-4bf2-868c-3b41dad3e85e",
   "metadata": {
    "tags": []
   },
   "outputs": [],
   "source": [
    "cells = sub_ct.B.unique()"
   ]
  },
  {
   "cell_type": "code",
   "execution_count": 12,
   "id": "53b28e0c-4ef1-4012-bed4-797c128d78f8",
   "metadata": {
    "tags": []
   },
   "outputs": [],
   "source": [
    "ct_df = sub_ct"
   ]
  },
  {
   "cell_type": "code",
   "execution_count": 13,
   "id": "e5772c25-a75d-4447-ae3c-36f46897037d",
   "metadata": {
    "tags": []
   },
   "outputs": [],
   "source": [
    "# get rid of the cell type parent since all are the same\n",
    "# also get rid of total frequency column as we can re-calculate it as needed\n",
    "ct_df = ct_df.drop(['A', 'H'], axis = 1)\n",
    "ct_df.columns = ['Tct', 'mouse_day', 'mouse', 'timepoint', 'n_cell', 'ct_freq']"
   ]
  },
  {
   "cell_type": "code",
   "execution_count": 14,
   "id": "b4a539d5-d45d-4c08-bd36-82881af4bfc0",
   "metadata": {
    "tags": []
   },
   "outputs": [],
   "source": [
    "# fix spaces in strings\n",
    "ct_df['Tct'] = ct_df.Tct.str.replace('\\xa0', ' ')"
   ]
  },
  {
   "cell_type": "code",
   "execution_count": 15,
   "id": "7f6ac573-1f00-4976-b44f-e02f723009c4",
   "metadata": {
    "tags": []
   },
   "outputs": [
    {
     "data": {
      "text/html": [
       "<div>\n",
       "<style scoped>\n",
       "    .dataframe tbody tr th:only-of-type {\n",
       "        vertical-align: middle;\n",
       "    }\n",
       "\n",
       "    .dataframe tbody tr th {\n",
       "        vertical-align: top;\n",
       "    }\n",
       "\n",
       "    .dataframe thead th {\n",
       "        text-align: right;\n",
       "    }\n",
       "</style>\n",
       "<table border=\"1\" class=\"dataframe\">\n",
       "  <thead>\n",
       "    <tr style=\"text-align: right;\">\n",
       "      <th></th>\n",
       "      <th>Tct</th>\n",
       "      <th>mouse_day</th>\n",
       "      <th>mouse</th>\n",
       "      <th>timepoint</th>\n",
       "      <th>n_cell</th>\n",
       "      <th>ct_freq</th>\n",
       "    </tr>\n",
       "    <tr>\n",
       "      <th>0</th>\n",
       "      <th></th>\n",
       "      <th></th>\n",
       "      <th></th>\n",
       "      <th></th>\n",
       "      <th></th>\n",
       "      <th></th>\n",
       "    </tr>\n",
       "  </thead>\n",
       "  <tbody>\n",
       "    <tr>\n",
       "      <th>85</th>\n",
       "      <td>CD4+ T cells</td>\n",
       "      <td>Mice1_Day0</td>\n",
       "      <td>Mice1</td>\n",
       "      <td>Day0</td>\n",
       "      <td>177</td>\n",
       "      <td>0.325697</td>\n",
       "    </tr>\n",
       "    <tr>\n",
       "      <th>97</th>\n",
       "      <td>CD8+ T cells</td>\n",
       "      <td>Mice1_Day0</td>\n",
       "      <td>Mice1</td>\n",
       "      <td>Day0</td>\n",
       "      <td>224</td>\n",
       "      <td>0.412181</td>\n",
       "    </tr>\n",
       "    <tr>\n",
       "      <th>133</th>\n",
       "      <td>DN T cells</td>\n",
       "      <td>Mice1_Day0</td>\n",
       "      <td>Mice1</td>\n",
       "      <td>Day0</td>\n",
       "      <td>89</td>\n",
       "      <td>0.163769</td>\n",
       "    </tr>\n",
       "    <tr>\n",
       "      <th>351</th>\n",
       "      <td>PD-1+CD4+ T cells</td>\n",
       "      <td>Mice1_Day0</td>\n",
       "      <td>Mice1</td>\n",
       "      <td>Day0</td>\n",
       "      <td>37</td>\n",
       "      <td>0.068084</td>\n",
       "    </tr>\n",
       "    <tr>\n",
       "      <th>363</th>\n",
       "      <td>PD-1+CD8+ T cells</td>\n",
       "      <td>Mice1_Day0</td>\n",
       "      <td>Mice1</td>\n",
       "      <td>Day0</td>\n",
       "      <td>70</td>\n",
       "      <td>0.128807</td>\n",
       "    </tr>\n",
       "    <tr>\n",
       "      <th>86</th>\n",
       "      <td>CD4+ T cells</td>\n",
       "      <td>Mice10_Day21</td>\n",
       "      <td>Mice10</td>\n",
       "      <td>Day21</td>\n",
       "      <td>663</td>\n",
       "      <td>0.445005</td>\n",
       "    </tr>\n",
       "    <tr>\n",
       "      <th>98</th>\n",
       "      <td>CD8+ T cells</td>\n",
       "      <td>Mice10_Day21</td>\n",
       "      <td>Mice10</td>\n",
       "      <td>Day21</td>\n",
       "      <td>194</td>\n",
       "      <td>0.130213</td>\n",
       "    </tr>\n",
       "    <tr>\n",
       "      <th>134</th>\n",
       "      <td>DN T cells</td>\n",
       "      <td>Mice10_Day21</td>\n",
       "      <td>Mice10</td>\n",
       "      <td>Day21</td>\n",
       "      <td>293</td>\n",
       "      <td>0.196661</td>\n",
       "    </tr>\n",
       "    <tr>\n",
       "      <th>352</th>\n",
       "      <td>PD-1+CD4+ T cells</td>\n",
       "      <td>Mice10_Day21</td>\n",
       "      <td>Mice10</td>\n",
       "      <td>Day21</td>\n",
       "      <td>195</td>\n",
       "      <td>0.130884</td>\n",
       "    </tr>\n",
       "    <tr>\n",
       "      <th>364</th>\n",
       "      <td>PD-1+CD8+ T cells</td>\n",
       "      <td>Mice10_Day21</td>\n",
       "      <td>Mice10</td>\n",
       "      <td>Day21</td>\n",
       "      <td>538</td>\n",
       "      <td>0.361105</td>\n",
       "    </tr>\n",
       "    <tr>\n",
       "      <th>87</th>\n",
       "      <td>CD4+ T cells</td>\n",
       "      <td>Mice11_Day21</td>\n",
       "      <td>Mice11</td>\n",
       "      <td>Day21</td>\n",
       "      <td>810</td>\n",
       "      <td>0.343497</td>\n",
       "    </tr>\n",
       "    <tr>\n",
       "      <th>99</th>\n",
       "      <td>CD8+ T cells</td>\n",
       "      <td>Mice11_Day21</td>\n",
       "      <td>Mice11</td>\n",
       "      <td>Day21</td>\n",
       "      <td>274</td>\n",
       "      <td>0.116195</td>\n",
       "    </tr>\n",
       "    <tr>\n",
       "      <th>135</th>\n",
       "      <td>DN T cells</td>\n",
       "      <td>Mice11_Day21</td>\n",
       "      <td>Mice11</td>\n",
       "      <td>Day21</td>\n",
       "      <td>266</td>\n",
       "      <td>0.112803</td>\n",
       "    </tr>\n",
       "    <tr>\n",
       "      <th>353</th>\n",
       "      <td>PD-1+CD4+ T cells</td>\n",
       "      <td>Mice11_Day21</td>\n",
       "      <td>Mice11</td>\n",
       "      <td>Day21</td>\n",
       "      <td>196</td>\n",
       "      <td>0.083118</td>\n",
       "    </tr>\n",
       "    <tr>\n",
       "      <th>365</th>\n",
       "      <td>PD-1+CD8+ T cells</td>\n",
       "      <td>Mice11_Day21</td>\n",
       "      <td>Mice11</td>\n",
       "      <td>Day21</td>\n",
       "      <td>1029</td>\n",
       "      <td>0.436368</td>\n",
       "    </tr>\n",
       "    <tr>\n",
       "      <th>88</th>\n",
       "      <td>CD4+ T cells</td>\n",
       "      <td>Mice12_Day21</td>\n",
       "      <td>Mice12</td>\n",
       "      <td>Day21</td>\n",
       "      <td>964</td>\n",
       "      <td>0.448787</td>\n",
       "    </tr>\n",
       "    <tr>\n",
       "      <th>100</th>\n",
       "      <td>CD8+ T cells</td>\n",
       "      <td>Mice12_Day21</td>\n",
       "      <td>Mice12</td>\n",
       "      <td>Day21</td>\n",
       "      <td>327</td>\n",
       "      <td>0.152234</td>\n",
       "    </tr>\n",
       "    <tr>\n",
       "      <th>136</th>\n",
       "      <td>DN T cells</td>\n",
       "      <td>Mice12_Day21</td>\n",
       "      <td>Mice12</td>\n",
       "      <td>Day21</td>\n",
       "      <td>572</td>\n",
       "      <td>0.266293</td>\n",
       "    </tr>\n",
       "    <tr>\n",
       "      <th>354</th>\n",
       "      <td>PD-1+CD4+ T cells</td>\n",
       "      <td>Mice12_Day21</td>\n",
       "      <td>Mice12</td>\n",
       "      <td>Day21</td>\n",
       "      <td>300</td>\n",
       "      <td>0.139664</td>\n",
       "    </tr>\n",
       "    <tr>\n",
       "      <th>366</th>\n",
       "      <td>PD-1+CD8+ T cells</td>\n",
       "      <td>Mice12_Day21</td>\n",
       "      <td>Mice12</td>\n",
       "      <td>Day21</td>\n",
       "      <td>459</td>\n",
       "      <td>0.213686</td>\n",
       "    </tr>\n",
       "    <tr>\n",
       "      <th>89</th>\n",
       "      <td>CD4+ T cells</td>\n",
       "      <td>Mice2_Day0</td>\n",
       "      <td>Mice2</td>\n",
       "      <td>Day0</td>\n",
       "      <td>272</td>\n",
       "      <td>0.179217</td>\n",
       "    </tr>\n",
       "    <tr>\n",
       "      <th>101</th>\n",
       "      <td>CD8+ T cells</td>\n",
       "      <td>Mice2_Day0</td>\n",
       "      <td>Mice2</td>\n",
       "      <td>Day0</td>\n",
       "      <td>287</td>\n",
       "      <td>0.189101</td>\n",
       "    </tr>\n",
       "    <tr>\n",
       "      <th>137</th>\n",
       "      <td>DN T cells</td>\n",
       "      <td>Mice2_Day0</td>\n",
       "      <td>Mice2</td>\n",
       "      <td>Day0</td>\n",
       "      <td>182</td>\n",
       "      <td>0.119918</td>\n",
       "    </tr>\n",
       "    <tr>\n",
       "      <th>355</th>\n",
       "      <td>PD-1+CD4+ T cells</td>\n",
       "      <td>Mice2_Day0</td>\n",
       "      <td>Mice2</td>\n",
       "      <td>Day0</td>\n",
       "      <td>14</td>\n",
       "      <td>0.009224</td>\n",
       "    </tr>\n",
       "    <tr>\n",
       "      <th>367</th>\n",
       "      <td>PD-1+CD8+ T cells</td>\n",
       "      <td>Mice2_Day0</td>\n",
       "      <td>Mice2</td>\n",
       "      <td>Day0</td>\n",
       "      <td>5</td>\n",
       "      <td>0.003294</td>\n",
       "    </tr>\n",
       "    <tr>\n",
       "      <th>90</th>\n",
       "      <td>CD4+ T cells</td>\n",
       "      <td>Mice3_Day0</td>\n",
       "      <td>Mice3</td>\n",
       "      <td>Day0</td>\n",
       "      <td>1626</td>\n",
       "      <td>0.675774</td>\n",
       "    </tr>\n",
       "    <tr>\n",
       "      <th>102</th>\n",
       "      <td>CD8+ T cells</td>\n",
       "      <td>Mice3_Day0</td>\n",
       "      <td>Mice3</td>\n",
       "      <td>Day0</td>\n",
       "      <td>1718</td>\n",
       "      <td>0.714010</td>\n",
       "    </tr>\n",
       "    <tr>\n",
       "      <th>138</th>\n",
       "      <td>DN T cells</td>\n",
       "      <td>Mice3_Day0</td>\n",
       "      <td>Mice3</td>\n",
       "      <td>Day0</td>\n",
       "      <td>568</td>\n",
       "      <td>0.236064</td>\n",
       "    </tr>\n",
       "    <tr>\n",
       "      <th>356</th>\n",
       "      <td>PD-1+CD4+ T cells</td>\n",
       "      <td>Mice3_Day0</td>\n",
       "      <td>Mice3</td>\n",
       "      <td>Day0</td>\n",
       "      <td>145</td>\n",
       "      <td>0.060263</td>\n",
       "    </tr>\n",
       "    <tr>\n",
       "      <th>368</th>\n",
       "      <td>PD-1+CD8+ T cells</td>\n",
       "      <td>Mice3_Day0</td>\n",
       "      <td>Mice3</td>\n",
       "      <td>Day0</td>\n",
       "      <td>87</td>\n",
       "      <td>0.036158</td>\n",
       "    </tr>\n",
       "  </tbody>\n",
       "</table>\n",
       "</div>"
      ],
      "text/plain": [
       "                   Tct     mouse_day   mouse timepoint  n_cell   ct_freq\n",
       "0                                                                       \n",
       "85        CD4+ T cells    Mice1_Day0   Mice1      Day0     177  0.325697\n",
       "97        CD8+ T cells    Mice1_Day0   Mice1      Day0     224  0.412181\n",
       "133         DN T cells    Mice1_Day0   Mice1      Day0      89  0.163769\n",
       "351  PD-1+CD4+ T cells    Mice1_Day0   Mice1      Day0      37  0.068084\n",
       "363  PD-1+CD8+ T cells    Mice1_Day0   Mice1      Day0      70  0.128807\n",
       "86        CD4+ T cells  Mice10_Day21  Mice10     Day21     663  0.445005\n",
       "98        CD8+ T cells  Mice10_Day21  Mice10     Day21     194  0.130213\n",
       "134         DN T cells  Mice10_Day21  Mice10     Day21     293  0.196661\n",
       "352  PD-1+CD4+ T cells  Mice10_Day21  Mice10     Day21     195  0.130884\n",
       "364  PD-1+CD8+ T cells  Mice10_Day21  Mice10     Day21     538  0.361105\n",
       "87        CD4+ T cells  Mice11_Day21  Mice11     Day21     810  0.343497\n",
       "99        CD8+ T cells  Mice11_Day21  Mice11     Day21     274  0.116195\n",
       "135         DN T cells  Mice11_Day21  Mice11     Day21     266  0.112803\n",
       "353  PD-1+CD4+ T cells  Mice11_Day21  Mice11     Day21     196  0.083118\n",
       "365  PD-1+CD8+ T cells  Mice11_Day21  Mice11     Day21    1029  0.436368\n",
       "88        CD4+ T cells  Mice12_Day21  Mice12     Day21     964  0.448787\n",
       "100       CD8+ T cells  Mice12_Day21  Mice12     Day21     327  0.152234\n",
       "136         DN T cells  Mice12_Day21  Mice12     Day21     572  0.266293\n",
       "354  PD-1+CD4+ T cells  Mice12_Day21  Mice12     Day21     300  0.139664\n",
       "366  PD-1+CD8+ T cells  Mice12_Day21  Mice12     Day21     459  0.213686\n",
       "89        CD4+ T cells    Mice2_Day0   Mice2      Day0     272  0.179217\n",
       "101       CD8+ T cells    Mice2_Day0   Mice2      Day0     287  0.189101\n",
       "137         DN T cells    Mice2_Day0   Mice2      Day0     182  0.119918\n",
       "355  PD-1+CD4+ T cells    Mice2_Day0   Mice2      Day0      14  0.009224\n",
       "367  PD-1+CD8+ T cells    Mice2_Day0   Mice2      Day0       5  0.003294\n",
       "90        CD4+ T cells    Mice3_Day0   Mice3      Day0    1626  0.675774\n",
       "102       CD8+ T cells    Mice3_Day0   Mice3      Day0    1718  0.714010\n",
       "138         DN T cells    Mice3_Day0   Mice3      Day0     568  0.236064\n",
       "356  PD-1+CD4+ T cells    Mice3_Day0   Mice3      Day0     145  0.060263\n",
       "368  PD-1+CD8+ T cells    Mice3_Day0   Mice3      Day0      87  0.036158"
      ]
     },
     "execution_count": 15,
     "metadata": {},
     "output_type": "execute_result"
    }
   ],
   "source": [
    "ct_df"
   ]
  },
  {
   "cell_type": "markdown",
   "id": "25b922e1-a328-4dbd-8cc1-09dd00801081",
   "metadata": {
    "tags": []
   },
   "source": [
    "### wrangle neighborhoods\n",
    "\n",
    "do this separately for each day, based on the way the files were formatted. then concatenate"
   ]
  },
  {
   "cell_type": "markdown",
   "id": "d9a60b02-c972-4515-9769-4d6ad7b2ff77",
   "metadata": {
    "tags": []
   },
   "source": [
    "#### Day0"
   ]
  },
  {
   "cell_type": "code",
   "execution_count": null,
   "id": "4445e92d-1b22-4001-8147-f166a798141b",
   "metadata": {
    "tags": []
   },
   "outputs": [],
   "source": [
    "day0 = pd.read_excel('/data/T_subsets.xlsx', sheet_name = 0, header = [2], nrows = 16)\n",
    "day0"
   ]
  },
  {
   "cell_type": "code",
   "execution_count": null,
   "id": "968f5e81-4c82-4e06-9175-3b08926862c8",
   "metadata": {
    "tags": []
   },
   "outputs": [],
   "source": [
    "day0.columns"
   ]
  },
  {
   "cell_type": "code",
   "execution_count": null,
   "id": "09999e4e-a575-4109-b3c3-72d40c0aad8d",
   "metadata": {
    "tags": []
   },
   "outputs": [],
   "source": [
    "# rename the columns (this didn't translate well from the original spreadsheet)\n",
    "day0.columns = [\n",
    "    'Day0', \n",
    "    'neighborhood', \n",
    "    'mouse1--CD4+ T cells', 'mouse2--CD4+ T cells', 'mouse3--CD4+ T cells',\n",
    "    'mouse1--CD8+ T cells', 'mouse2--CD8+ T cells', 'mouse3--CD8+ T cells',\n",
    "    'mouse1--DN T cells', 'mouse2--DN T cells', 'mouse3--DN T cells', \n",
    "    'mouse1--PD-1+CD4+ T cells', 'mouse2--PD-1+CD4+ T cells', 'mouse3--PD-1+CD4+ T cells', \n",
    "    'mouse1--PD-1+CD8+ T cells', 'mouse2--PD-1+CD8+ T cells', 'mouse3--PD-1+CD8+ T cells']"
   ]
  },
  {
   "cell_type": "code",
   "execution_count": null,
   "id": "bbb4ff45-1f48-48e8-94cd-06b33a1235c2",
   "metadata": {
    "tags": []
   },
   "outputs": [],
   "source": [
    "# clean up indices\n",
    "day0 = day0.drop(0, axis = 0).drop('Day0', axis = 1).reset_index(drop = True)"
   ]
  },
  {
   "cell_type": "code",
   "execution_count": null,
   "id": "7e4a7308-c526-4677-b6ab-8530591e360e",
   "metadata": {
    "tags": []
   },
   "outputs": [],
   "source": [
    "day0 # need to make long"
   ]
  },
  {
   "cell_type": "code",
   "execution_count": null,
   "id": "02f2a058-c96d-43af-b5d7-b4d023bcc2ae",
   "metadata": {
    "tags": []
   },
   "outputs": [],
   "source": [
    "# turn it into a long dataframe\n",
    "day0_long = day0.melt(id_vars = ['neighborhood'], var_name = 'mouse_Tct', value_name = 'freq')"
   ]
  },
  {
   "cell_type": "code",
   "execution_count": null,
   "id": "3504b0fc-6b5e-425e-a6fd-39da1fa18334",
   "metadata": {
    "tags": []
   },
   "outputs": [],
   "source": [
    "day0_long"
   ]
  },
  {
   "cell_type": "code",
   "execution_count": null,
   "id": "309e0ec6-9196-4485-bbec-94f2188aa23e",
   "metadata": {
    "tags": []
   },
   "outputs": [],
   "source": [
    "# split the mouse_Tct column\n",
    "day0_long[['mouse','Tct']] = day0_long['mouse_Tct'].str.split('--',expand=True)"
   ]
  },
  {
   "cell_type": "code",
   "execution_count": null,
   "id": "9bf129a9-f604-4c18-8dd4-f1f12612fa2a",
   "metadata": {
    "tags": []
   },
   "outputs": [],
   "source": [
    "day0_long"
   ]
  },
  {
   "cell_type": "code",
   "execution_count": null,
   "id": "4cb7f458-a8a5-461c-8939-e5dcdb7c205b",
   "metadata": {
    "tags": []
   },
   "outputs": [],
   "source": [
    "# add a timepoint column\n",
    "day0_long['timepoint'] = 'Day0'"
   ]
  },
  {
   "cell_type": "markdown",
   "id": "2a6aedf4-0d38-4b7f-bdbd-fad54804afa0",
   "metadata": {
    "tags": []
   },
   "source": [
    "#### Day21"
   ]
  },
  {
   "cell_type": "code",
   "execution_count": null,
   "id": "de3f350c-39dd-4b5b-a7cb-73697b51814b",
   "metadata": {
    "tags": []
   },
   "outputs": [],
   "source": [
    "day21 = pd.read_excel('/data/T_subsets.xlsx', sheet_name = 0, header = [22], nrows = 16)\n",
    "day21"
   ]
  },
  {
   "cell_type": "code",
   "execution_count": null,
   "id": "d363d7a8-6520-42c2-977f-5807852e3d18",
   "metadata": {
    "tags": []
   },
   "outputs": [],
   "source": [
    "day21.columns"
   ]
  },
  {
   "cell_type": "code",
   "execution_count": null,
   "id": "d6ae04dc-9694-497a-8095-cf548514c0e9",
   "metadata": {
    "tags": []
   },
   "outputs": [],
   "source": [
    "day21.columns = [\n",
    "    'Day21', \n",
    "    'neighborhood', \n",
    "    'mouse10--CD4+ T cells', 'mouse11--CD4+ T cells', 'mouse12--CD4+ T cells',\n",
    "    'mouse10--CD8+ T cells', 'mouse11--CD8+ T cells', 'mouse12--CD8+ T cells',\n",
    "    'mouse10--DN T cells', 'mouse11--DN T cells', 'mouse12--DN T cells', \n",
    "    'mouse10--PD-1+CD4+ T cells', 'mouse11--PD-1+CD4+ T cells', 'mouse12--PD-1+CD4+ T cells', \n",
    "    'mouse10--PD-1+CD8+ T cells', 'mouse11--PD-1+CD8+ T cells', 'mouse12--PD-1+CD8+ T cells']"
   ]
  },
  {
   "cell_type": "code",
   "execution_count": null,
   "id": "9bba8ffe-bf7e-41cd-8232-9459f7d8d786",
   "metadata": {
    "tags": []
   },
   "outputs": [],
   "source": [
    "day21 = day21.drop(0, axis = 0).drop('Day21', axis = 1).reset_index(drop = True)"
   ]
  },
  {
   "cell_type": "code",
   "execution_count": null,
   "id": "99c7bf0e-06f0-4d39-b059-e151610e5bf7",
   "metadata": {
    "tags": []
   },
   "outputs": [],
   "source": [
    "day21 # need to make long"
   ]
  },
  {
   "cell_type": "code",
   "execution_count": null,
   "id": "b2cfd05e-c2c9-4a63-86d8-dd925013eef7",
   "metadata": {
    "tags": []
   },
   "outputs": [],
   "source": [
    "day21_long = day21.melt(id_vars = ['neighborhood'], var_name = 'mouse_Tct', value_name = 'freq')"
   ]
  },
  {
   "cell_type": "code",
   "execution_count": null,
   "id": "53ab614b-3dad-4f4c-b1a5-f7493326c2d1",
   "metadata": {
    "tags": []
   },
   "outputs": [],
   "source": [
    "day21_long"
   ]
  },
  {
   "cell_type": "code",
   "execution_count": null,
   "id": "cad935c8-a30f-43f1-8493-c7aa38bea9d5",
   "metadata": {
    "tags": []
   },
   "outputs": [],
   "source": [
    "day21_long[['mouse','Tct']] = day21_long['mouse_Tct'].str.split('--',expand=True)"
   ]
  },
  {
   "cell_type": "code",
   "execution_count": null,
   "id": "341d3a15-c0d5-4730-a4d7-92713f1bef33",
   "metadata": {
    "tags": []
   },
   "outputs": [],
   "source": [
    "day21_long"
   ]
  },
  {
   "cell_type": "code",
   "execution_count": null,
   "id": "6b714b75-c844-4a67-8f55-a52571ee5a9b",
   "metadata": {
    "tags": []
   },
   "outputs": [],
   "source": [
    "day21_long['timepoint'] = 'Day21'"
   ]
  },
  {
   "cell_type": "markdown",
   "id": "bfb4fc7f-5da4-42e2-b9fa-05aa20a4f5c4",
   "metadata": {
    "tags": []
   },
   "source": [
    "#### concatenate the neighborhood data"
   ]
  },
  {
   "cell_type": "code",
   "execution_count": null,
   "id": "58daa03a-66e7-4a95-a218-b9a6adb9dd7b",
   "metadata": {
    "tags": []
   },
   "outputs": [],
   "source": [
    "nb_df = pd.concat([day0_long, day21_long], ignore_index = True)"
   ]
  },
  {
   "cell_type": "code",
   "execution_count": null,
   "id": "4f6d50f9-43e4-40e6-a1c2-15c66c4cd445",
   "metadata": {
    "tags": []
   },
   "outputs": [],
   "source": [
    "# clean up mouse labels to match cell frequency df\n",
    "nb_df.mouse = nb_df['mouse'].str.replace('mouse', 'Mice')"
   ]
  },
  {
   "cell_type": "code",
   "execution_count": null,
   "id": "ff79b4f9-dc52-443e-9f85-f49864cbdd89",
   "metadata": {
    "tags": []
   },
   "outputs": [],
   "source": [
    "nb_df # long neighborhood df"
   ]
  },
  {
   "cell_type": "code",
   "execution_count": null,
   "id": "7fc80a76-ce49-4026-a749-ca9c736e0c2a",
   "metadata": {
    "tags": []
   },
   "outputs": [],
   "source": [
    "# rename \"freq\" so that it's clearer what it represents (also prepare for joining)\n",
    "nb_df.rename(columns={\"freq\": \"ct_in_nb_freq\"}, inplace = True)"
   ]
  },
  {
   "cell_type": "code",
   "execution_count": null,
   "id": "fc2ba459-ddcd-4229-967c-0d870fe64e0b",
   "metadata": {
    "tags": []
   },
   "outputs": [],
   "source": [
    "nb_df"
   ]
  },
  {
   "cell_type": "markdown",
   "id": "7286d80f-7d65-477d-8e44-2d69f537cc93",
   "metadata": {},
   "source": [
    "### create one unified data frame"
   ]
  },
  {
   "cell_type": "code",
   "execution_count": null,
   "id": "7dcc4489-8b76-483d-89dc-41eec7909745",
   "metadata": {
    "tags": []
   },
   "outputs": [],
   "source": [
    "for mouse in nb_df.mouse.unique():\n",
    "    print(mouse)\n",
    "    assert mouse in ct_df.mouse.unique(), f'{mouse} not found in ct_df'"
   ]
  },
  {
   "cell_type": "code",
   "execution_count": null,
   "id": "16c69492-42a3-4e79-bd3d-b1962333bb33",
   "metadata": {
    "tags": []
   },
   "outputs": [],
   "source": [
    "for celltype in nb_df.Tct.unique():\n",
    "    print(celltype)\n",
    "    assert celltype in ct_df.Tct.unique(), f'{celltype} not found in ct_df'"
   ]
  },
  {
   "cell_type": "code",
   "execution_count": null,
   "id": "ccf329b1-39fc-4291-816a-b8bc9aec6a4f",
   "metadata": {
    "tags": []
   },
   "outputs": [],
   "source": [
    "full_df = nb_df.drop(['mouse_Tct'], axis = 1).merge(\n",
    "    ct_df.drop(['n_cell'], axis = 1),\n",
    "    on = ['mouse', 'Tct', 'timepoint'], \n",
    "    how = 'inner')"
   ]
  },
  {
   "cell_type": "markdown",
   "id": "a45bf1c7-f4e0-4d40-9b0e-95b493d00ec7",
   "metadata": {},
   "source": [
    "### prepare for model fitting"
   ]
  },
  {
   "cell_type": "code",
   "execution_count": null,
   "id": "5d8c5aca-a0fc-41e8-96fa-e3ab24fa7f8b",
   "metadata": {
    "tags": []
   },
   "outputs": [],
   "source": [
    "# code timepoint as integer for model fitting\n",
    "full_df['timepoint_int'] = full_df.timepoint.replace({\"Day0\": 0, \"Day21\": 1})"
   ]
  },
  {
   "cell_type": "code",
   "execution_count": null,
   "id": "a009d424-f4b1-4d88-b8b9-20ad713a8a9d",
   "metadata": {
    "tags": []
   },
   "outputs": [],
   "source": [
    "# correct dtypes to float so that the model fitting doesn't complain\n",
    "full_df = full_df.astype({'ct_in_nb_freq': 'float64'})"
   ]
  },
  {
   "cell_type": "code",
   "execution_count": null,
   "id": "e12e2b5e-9dd5-485d-8731-5c83b5419ef3",
   "metadata": {
    "tags": []
   },
   "outputs": [],
   "source": [
    "full_df.dtypes"
   ]
  },
  {
   "cell_type": "code",
   "execution_count": null,
   "id": "e4ac9be7-debe-4144-884d-ffc9e22843c4",
   "metadata": {
    "tags": []
   },
   "outputs": [],
   "source": [
    "# perform log transform\n",
    "ct_freq_col = 'ct_freq'\n",
    "ct_in_nb_freq_col = 'ct_in_nb_freq'\n",
    "\n",
    "# 1e-3 is the pseudocount used in the paper\n",
    "full_df['ct_freq_log2'] = np.log2(1e-3 + full_df[ct_freq_col])\n",
    "full_df['ct_in_nb_freq_log2'] = np.log2(1e-3 + full_df[ct_in_nb_freq_col])"
   ]
  },
  {
   "cell_type": "code",
   "execution_count": null,
   "id": "69254610-3331-42b2-8bdc-60f07ac27217",
   "metadata": {},
   "outputs": [],
   "source": [
    "# export it to csv\n",
    "full_df.to_csv('/data/all_data_for_model.csv')"
   ]
  },
  {
   "cell_type": "markdown",
   "id": "8eca257f-d7d3-4938-8b24-c302d973c553",
   "metadata": {
    "tags": []
   },
   "source": [
    "## Run the model\n",
    "\n",
    "Y = beta0 * 1 + beta1 * X + beta2 * Yc"
   ]
  },
  {
   "cell_type": "code",
   "execution_count": null,
   "id": "1b285461-b1af-4112-9dc4-87392673c5e8",
   "metadata": {
    "tags": []
   },
   "outputs": [],
   "source": [
    "unique_Tct = list(full_df.Tct.unique())\n",
    "unique_nb = list(full_df.neighborhood.unique())\n",
    "unique_mice = list(full_df.mouse.unique())\n",
    "\n",
    "ct_freq_col = 'ct_freq_log2'\n",
    "ct_in_nb_freq_col = 'ct_in_nb_freq_log2'"
   ]
  },
  {
   "cell_type": "code",
   "execution_count": null,
   "id": "261656a1-70f2-4db4-ab1a-cec815b6cb32",
   "metadata": {
    "tags": []
   },
   "outputs": [],
   "source": [
    "res = []\n",
    "\n",
    "np.random.seed(19220116)\n",
    "\n",
    "for ct in unique_Tct:\n",
    "    for nb in unique_nb:\n",
    "        df = full_df.query(f'Tct == \"{ct}\" & neighborhood == \"{nb}\"')\n",
    "        nsample = len(df)\n",
    "        if nsample == len(unique_mice):\n",
    "            X = df[['timepoint_int', ct_freq_col]].to_numpy()\n",
    "            X = sm.add_constant(X)\n",
    "            y = df[ct_in_nb_freq_col].to_numpy()\n",
    "            \n",
    "            results = sm.OLS(y, X).fit()\n",
    "            #print(results.summary())\n",
    "            \n",
    "            # results.params[1] is the beta1 coeff, which is multiplied by timepoint_int\n",
    "            # in the linear model (this is the effect attributed to Day21 (timepoint_int: 1) \n",
    "            # vs. Day 0 (timepoint_int: 0)). we pull the corresponding p-value as well\n",
    "            res.append([ct, nb, results.pvalues[1], results.params[1]])\n",
    "        else:\n",
    "            print(f'not enough samples for {ct}, {nb}: {nsample}')"
   ]
  },
  {
   "cell_type": "code",
   "execution_count": null,
   "id": "b4dad755-ab75-40a5-b523-e7cc331eab4a",
   "metadata": {
    "tags": []
   },
   "outputs": [],
   "source": [
    "results = pd.DataFrame(res, columns = ['T cell type', 'neighborhood', 'p-value', 'beta1_est'])"
   ]
  },
  {
   "cell_type": "markdown",
   "id": "9e9b49da-26e6-49c4-ba42-ce829ee43f57",
   "metadata": {
    "tags": []
   },
   "source": [
    "### perform p-value correction for FDR"
   ]
  },
  {
   "cell_type": "code",
   "execution_count": null,
   "id": "e49df70c-af9f-469b-86a7-0526d1932701",
   "metadata": {
    "tags": []
   },
   "outputs": [],
   "source": [
    "fdr_res = smmulti.fdrcorrection(\n",
    "    results['p-value'].to_numpy(dtype = 'float64'), \n",
    "    alpha=0.05, \n",
    "    method='indep', \n",
    "    is_sorted=False\n",
    ")\n",
    "\n",
    "# add these to the results\n",
    "results['h0_rejected'] = fdr_res[0]\n",
    "results['p-value_cor'] = fdr_res[1]"
   ]
  },
  {
   "cell_type": "code",
   "execution_count": null,
   "id": "8e5d3316-02e2-464b-a9a4-2a5fb21d7b40",
   "metadata": {
    "tags": []
   },
   "outputs": [],
   "source": [
    "# write results to csv\n",
    "results.to_csv('/results/ols_results.csv')"
   ]
  },
  {
   "cell_type": "markdown",
   "id": "c3134572-f70d-428c-8c3d-4383c5e03da1",
   "metadata": {
    "tags": []
   },
   "source": [
    "## Visualize results"
   ]
  },
  {
   "cell_type": "markdown",
   "id": "6b23e995-75f7-4ac2-8fdf-e04fa7c0c014",
   "metadata": {},
   "source": [
    "### beta1 coefficient (model results)"
   ]
  },
  {
   "cell_type": "code",
   "execution_count": null,
   "id": "f6f0dc5b-5c6e-4007-8402-1c1fbfe976c6",
   "metadata": {
    "tags": []
   },
   "outputs": [],
   "source": [
    "# pivot data for heatmaps\n",
    "beta1 = results.pivot(columns = 'neighborhood',\n",
    "                      index = 'T cell type',\n",
    "                      values = 'beta1_est')\n",
    "\n",
    "pvals = results.pivot(columns = 'neighborhood',\n",
    "                      index = 'T cell type',\n",
    "                      values = 'p-value_cor')"
   ]
  },
  {
   "cell_type": "code",
   "execution_count": null,
   "id": "bc8aee4c-15fc-42af-b3ee-07c4166eb8d3",
   "metadata": {
    "tags": []
   },
   "outputs": [],
   "source": [
    "ax = sns.heatmap(beta1, \n",
    "                 cmap = 'bwr', \n",
    "                 center = 0,\n",
    "                 # vmin = -1, \n",
    "                 # vmax = 1,\n",
    "                 square = True,\n",
    "                 cbar = True,\n",
    "                 cbar_kws = {\"shrink\": 0.5,\n",
    "                             \"label\": \"differential enrichment\\nred: higher on Day 21\\nblue:lower on Day 21\"\n",
    "                            })\n",
    "\n",
    "for a,b in zip(*np.where (pvals < 0.05)):\n",
    "    plt.text(b + .5,\n",
    "             a + .75,\n",
    "             '*',\n",
    "             fontsize = 20,\n",
    "             ha = 'center',\n",
    "             va = 'center', \n",
    "             c = 'white')\n",
    "    \n",
    "plt.tight_layout()\n",
    "plt.savefig('/results/heatmap.svg', bbox_inches=\"tight\", pad_inches = 0.2)"
   ]
  },
  {
   "cell_type": "markdown",
   "id": "70e15f11-e3ac-4d30-95e7-6baddb6f9532",
   "metadata": {},
   "source": [
    "in the heatmap, red (>0) indicates higher ct freq in that neighborhood for Day 21"
   ]
  },
  {
   "cell_type": "markdown",
   "id": "215b62a6-e468-4f2b-b85b-c7e424e1d6c2",
   "metadata": {},
   "source": [
    "### heatmaps of the ct freq in each neighborhood"
   ]
  },
  {
   "cell_type": "code",
   "execution_count": null,
   "id": "9528eb80-973f-4e93-82d6-9d8836a51fa5",
   "metadata": {
    "tags": []
   },
   "outputs": [],
   "source": [
    "day0_means = full_df.query('timepoint == \"Day0\"').groupby([\"neighborhood\",\"Tct\"]).ct_in_nb_freq.mean()\n",
    "day21_means = full_df.query('timepoint == \"Day21\"').groupby([\"neighborhood\",\"Tct\"]).ct_in_nb_freq.mean()"
   ]
  },
  {
   "cell_type": "code",
   "execution_count": null,
   "id": "b2e988a1-8486-4d3c-be93-499456fbb36a",
   "metadata": {
    "tags": []
   },
   "outputs": [],
   "source": [
    "ax = sns.heatmap(day0_means.unstack().T, \n",
    "            vmin = 0,\n",
    "            vmax = 1.5,\n",
    "            square = True,\n",
    "            cbar = True,\n",
    "            cbar_kws = {\"shrink\": 0.5})\n",
    "\n",
    "plt.title('Day0')"
   ]
  },
  {
   "cell_type": "code",
   "execution_count": null,
   "id": "54edc3da-3833-41f3-83e4-ce6d71e6db2b",
   "metadata": {
    "tags": []
   },
   "outputs": [],
   "source": [
    "ax = sns.heatmap(day21_means.unstack().T, \n",
    "            vmin = 0,\n",
    "            vmax = 1.5,\n",
    "            square = True,\n",
    "            cbar = True,\n",
    "            cbar_kws = {\"shrink\": 0.5})\n",
    "\n",
    "plt.title('Day21')"
   ]
  },
  {
   "cell_type": "markdown",
   "id": "2c76f66d-e269-402a-88df-cd716d66b055",
   "metadata": {
    "tags": []
   },
   "source": [
    "#### dropped 'Erythroid_EryC'\n",
    "made it hard to visualize others"
   ]
  },
  {
   "cell_type": "code",
   "execution_count": null,
   "id": "d696f8a0-f5c8-4be6-98a3-7a64a9a19072",
   "metadata": {
    "tags": []
   },
   "outputs": [],
   "source": [
    "ax = sns.heatmap(day0_means.unstack().T.drop('Erythroid_EryC', axis = 1), \n",
    "            vmin = 0,\n",
    "            vmax = 0.5,\n",
    "            square = True,\n",
    "            cbar = True,\n",
    "            cbar_kws = {\"shrink\": 0.5})\n",
    "\n",
    "plt.title('Day0')"
   ]
  },
  {
   "cell_type": "code",
   "execution_count": null,
   "id": "b44e5763-acc9-4d39-86c3-5a3d10ee4c00",
   "metadata": {
    "tags": []
   },
   "outputs": [],
   "source": [
    "ax = sns.heatmap(day21_means.unstack().T.drop('Erythroid_EryC', axis = 1),\n",
    "            vmin = 0,\n",
    "            vmax = 0.43,\n",
    "            square = True,\n",
    "            cbar = True,\n",
    "            cbar_kws = {\"shrink\": 0.5})\n",
    "\n",
    "plt.title('Day21')"
   ]
  },
  {
   "cell_type": "code",
   "execution_count": null,
   "id": "a1629bd5-6353-430e-adbb-efa1e501340a",
   "metadata": {},
   "outputs": [],
   "source": []
  }
 ],
 "metadata": {
  "kernelspec": {
   "display_name": "Python 3 (ipykernel)",
   "language": "python",
   "name": "python3"
  },
  "language_info": {
   "codemirror_mode": {
    "name": "ipython",
    "version": 3
   },
   "file_extension": ".py",
   "mimetype": "text/x-python",
   "name": "python",
   "nbconvert_exporter": "python",
   "pygments_lexer": "ipython3",
   "version": "3.8.10"
  }
 },
 "nbformat": 4,
 "nbformat_minor": 5
}
